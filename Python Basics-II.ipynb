{
 "cells": [
  {
   "cell_type": "markdown",
   "metadata": {},
   "source": [
    "# Pandas\n",
    "## Series, DataFrames and indexing "
   ]
  },
  {
   "cell_type": "code",
   "execution_count": 2,
   "metadata": {
    "collapsed": true
   },
   "outputs": [],
   "source": [
    "import pandas as pd\n",
    "import numpy as np\n",
    "import matplotlib.pyplot as plt"
   ]
  },
  {
   "cell_type": "code",
   "execution_count": 3,
   "metadata": {
    "collapsed": false
   },
   "outputs": [
    {
     "data": {
      "text/plain": [
       "0    1.0\n",
       "1    3.0\n",
       "2    5.0\n",
       "3    NaN\n",
       "4    6.0\n",
       "5    8.0\n",
       "dtype: float64"
      ]
     },
     "execution_count": 3,
     "metadata": {},
     "output_type": "execute_result"
    }
   ],
   "source": [
    "s = pd.Series([1,3,5,np.nan,6,8])\n",
    "s"
   ]
  },
  {
   "cell_type": "code",
   "execution_count": 5,
   "metadata": {
    "collapsed": false
   },
   "outputs": [
    {
     "data": {
      "text/plain": [
       "DatetimeIndex(['2013-01-01', '2013-01-02', '2013-01-03', '2013-01-04',\n",
       "               '2013-01-05', '2013-01-06'],\n",
       "              dtype='datetime64[ns]', freq='D')"
      ]
     },
     "execution_count": 5,
     "metadata": {},
     "output_type": "execute_result"
    }
   ],
   "source": [
    "dates = pd.date_range('20130101',periods = 6)\n",
    "dates"
   ]
  },
  {
   "cell_type": "code",
   "execution_count": 6,
   "metadata": {
    "collapsed": false
   },
   "outputs": [
    {
     "data": {
      "text/html": [
       "<div>\n",
       "<table border=\"1\" class=\"dataframe\">\n",
       "  <thead>\n",
       "    <tr style=\"text-align: right;\">\n",
       "      <th></th>\n",
       "      <th>A</th>\n",
       "      <th>B</th>\n",
       "      <th>C</th>\n",
       "      <th>D</th>\n",
       "    </tr>\n",
       "  </thead>\n",
       "  <tbody>\n",
       "    <tr>\n",
       "      <th>2013-01-01</th>\n",
       "      <td>-0.095952</td>\n",
       "      <td>-0.258668</td>\n",
       "      <td>-0.431750</td>\n",
       "      <td>2.609813</td>\n",
       "    </tr>\n",
       "    <tr>\n",
       "      <th>2013-01-02</th>\n",
       "      <td>0.382646</td>\n",
       "      <td>0.324358</td>\n",
       "      <td>-0.786989</td>\n",
       "      <td>0.823097</td>\n",
       "    </tr>\n",
       "    <tr>\n",
       "      <th>2013-01-03</th>\n",
       "      <td>0.790485</td>\n",
       "      <td>0.360121</td>\n",
       "      <td>-2.450170</td>\n",
       "      <td>0.260712</td>\n",
       "    </tr>\n",
       "    <tr>\n",
       "      <th>2013-01-04</th>\n",
       "      <td>-0.561622</td>\n",
       "      <td>-1.143568</td>\n",
       "      <td>-1.853286</td>\n",
       "      <td>1.372369</td>\n",
       "    </tr>\n",
       "    <tr>\n",
       "      <th>2013-01-05</th>\n",
       "      <td>-1.006146</td>\n",
       "      <td>0.404128</td>\n",
       "      <td>1.140711</td>\n",
       "      <td>0.904812</td>\n",
       "    </tr>\n",
       "    <tr>\n",
       "      <th>2013-01-06</th>\n",
       "      <td>-0.898154</td>\n",
       "      <td>2.330872</td>\n",
       "      <td>-0.078123</td>\n",
       "      <td>-0.549798</td>\n",
       "    </tr>\n",
       "  </tbody>\n",
       "</table>\n",
       "</div>"
      ],
      "text/plain": [
       "                   A         B         C         D\n",
       "2013-01-01 -0.095952 -0.258668 -0.431750  2.609813\n",
       "2013-01-02  0.382646  0.324358 -0.786989  0.823097\n",
       "2013-01-03  0.790485  0.360121 -2.450170  0.260712\n",
       "2013-01-04 -0.561622 -1.143568 -1.853286  1.372369\n",
       "2013-01-05 -1.006146  0.404128  1.140711  0.904812\n",
       "2013-01-06 -0.898154  2.330872 -0.078123 -0.549798"
      ]
     },
     "execution_count": 6,
     "metadata": {},
     "output_type": "execute_result"
    }
   ],
   "source": [
    "df = pd.DataFrame(np.random.randn(6,4),index = dates,columns = list('ABCD'))\n",
    "df"
   ]
  },
  {
   "cell_type": "code",
   "execution_count": 7,
   "metadata": {
    "collapsed": false
   },
   "outputs": [
    {
     "data": {
      "text/html": [
       "<div>\n",
       "<table border=\"1\" class=\"dataframe\">\n",
       "  <thead>\n",
       "    <tr style=\"text-align: right;\">\n",
       "      <th></th>\n",
       "      <th>A</th>\n",
       "      <th>B</th>\n",
       "      <th>C</th>\n",
       "      <th>D</th>\n",
       "      <th>E</th>\n",
       "      <th>F</th>\n",
       "    </tr>\n",
       "  </thead>\n",
       "  <tbody>\n",
       "    <tr>\n",
       "      <th>0</th>\n",
       "      <td>1.0</td>\n",
       "      <td>2013-01-02</td>\n",
       "      <td>1.0</td>\n",
       "      <td>3</td>\n",
       "      <td>test</td>\n",
       "      <td>foo</td>\n",
       "    </tr>\n",
       "    <tr>\n",
       "      <th>1</th>\n",
       "      <td>1.0</td>\n",
       "      <td>2013-01-02</td>\n",
       "      <td>1.0</td>\n",
       "      <td>3</td>\n",
       "      <td>train</td>\n",
       "      <td>foo</td>\n",
       "    </tr>\n",
       "    <tr>\n",
       "      <th>2</th>\n",
       "      <td>1.0</td>\n",
       "      <td>2013-01-02</td>\n",
       "      <td>1.0</td>\n",
       "      <td>3</td>\n",
       "      <td>test</td>\n",
       "      <td>foo</td>\n",
       "    </tr>\n",
       "    <tr>\n",
       "      <th>3</th>\n",
       "      <td>1.0</td>\n",
       "      <td>2013-01-02</td>\n",
       "      <td>1.0</td>\n",
       "      <td>3</td>\n",
       "      <td>train</td>\n",
       "      <td>foo</td>\n",
       "    </tr>\n",
       "  </tbody>\n",
       "</table>\n",
       "</div>"
      ],
      "text/plain": [
       "     A          B    C  D      E    F\n",
       "0  1.0 2013-01-02  1.0  3   test  foo\n",
       "1  1.0 2013-01-02  1.0  3  train  foo\n",
       "2  1.0 2013-01-02  1.0  3   test  foo\n",
       "3  1.0 2013-01-02  1.0  3  train  foo"
      ]
     },
     "execution_count": 7,
     "metadata": {},
     "output_type": "execute_result"
    }
   ],
   "source": [
    "df2 = pd.DataFrame({'A':1.,\n",
    "                    'B':pd.Timestamp('20130102'),\n",
    "                    'C':pd.Series(1,index = list(range(4)),dtype = 'float32'),\n",
    "                    'D':np.array([3]*4,dtype = 'int32'),\n",
    "                    'E':pd.Categorical([\"test\",\"train\",\"test\",\"train\"]),\n",
    "                    'F':'foo'})\n",
    "df2"
   ]
  },
  {
   "cell_type": "code",
   "execution_count": 8,
   "metadata": {
    "collapsed": false
   },
   "outputs": [
    {
     "data": {
      "text/plain": [
       "A           float64\n",
       "B    datetime64[ns]\n",
       "C           float32\n",
       "D             int32\n",
       "E          category\n",
       "F            object\n",
       "dtype: object"
      ]
     },
     "execution_count": 8,
     "metadata": {},
     "output_type": "execute_result"
    }
   ],
   "source": [
    "df2.dtypes"
   ]
  },
  {
   "cell_type": "markdown",
   "metadata": {},
   "source": [
    "# Understanding the data"
   ]
  },
  {
   "cell_type": "code",
   "execution_count": 12,
   "metadata": {
    "collapsed": false
   },
   "outputs": [
    {
     "data": {
      "text/html": [
       "<div>\n",
       "<table border=\"1\" class=\"dataframe\">\n",
       "  <thead>\n",
       "    <tr style=\"text-align: right;\">\n",
       "      <th></th>\n",
       "      <th>A</th>\n",
       "      <th>B</th>\n",
       "      <th>C</th>\n",
       "      <th>D</th>\n",
       "    </tr>\n",
       "  </thead>\n",
       "  <tbody>\n",
       "    <tr>\n",
       "      <th>2013-01-01</th>\n",
       "      <td>-0.095952</td>\n",
       "      <td>-0.258668</td>\n",
       "      <td>-0.431750</td>\n",
       "      <td>2.609813</td>\n",
       "    </tr>\n",
       "    <tr>\n",
       "      <th>2013-01-02</th>\n",
       "      <td>0.382646</td>\n",
       "      <td>0.324358</td>\n",
       "      <td>-0.786989</td>\n",
       "      <td>0.823097</td>\n",
       "    </tr>\n",
       "    <tr>\n",
       "      <th>2013-01-03</th>\n",
       "      <td>0.790485</td>\n",
       "      <td>0.360121</td>\n",
       "      <td>-2.450170</td>\n",
       "      <td>0.260712</td>\n",
       "    </tr>\n",
       "    <tr>\n",
       "      <th>2013-01-04</th>\n",
       "      <td>-0.561622</td>\n",
       "      <td>-1.143568</td>\n",
       "      <td>-1.853286</td>\n",
       "      <td>1.372369</td>\n",
       "    </tr>\n",
       "    <tr>\n",
       "      <th>2013-01-05</th>\n",
       "      <td>-1.006146</td>\n",
       "      <td>0.404128</td>\n",
       "      <td>1.140711</td>\n",
       "      <td>0.904812</td>\n",
       "    </tr>\n",
       "  </tbody>\n",
       "</table>\n",
       "</div>"
      ],
      "text/plain": [
       "                   A         B         C         D\n",
       "2013-01-01 -0.095952 -0.258668 -0.431750  2.609813\n",
       "2013-01-02  0.382646  0.324358 -0.786989  0.823097\n",
       "2013-01-03  0.790485  0.360121 -2.450170  0.260712\n",
       "2013-01-04 -0.561622 -1.143568 -1.853286  1.372369\n",
       "2013-01-05 -1.006146  0.404128  1.140711  0.904812"
      ]
     },
     "execution_count": 12,
     "metadata": {},
     "output_type": "execute_result"
    }
   ],
   "source": [
    "df.head()"
   ]
  },
  {
   "cell_type": "code",
   "execution_count": 13,
   "metadata": {
    "collapsed": false
   },
   "outputs": [
    {
     "data": {
      "text/html": [
       "<div>\n",
       "<table border=\"1\" class=\"dataframe\">\n",
       "  <thead>\n",
       "    <tr style=\"text-align: right;\">\n",
       "      <th></th>\n",
       "      <th>A</th>\n",
       "      <th>B</th>\n",
       "      <th>C</th>\n",
       "      <th>D</th>\n",
       "    </tr>\n",
       "  </thead>\n",
       "  <tbody>\n",
       "    <tr>\n",
       "      <th>2013-01-05</th>\n",
       "      <td>-1.006146</td>\n",
       "      <td>0.404128</td>\n",
       "      <td>1.140711</td>\n",
       "      <td>0.904812</td>\n",
       "    </tr>\n",
       "    <tr>\n",
       "      <th>2013-01-06</th>\n",
       "      <td>-0.898154</td>\n",
       "      <td>2.330872</td>\n",
       "      <td>-0.078123</td>\n",
       "      <td>-0.549798</td>\n",
       "    </tr>\n",
       "  </tbody>\n",
       "</table>\n",
       "</div>"
      ],
      "text/plain": [
       "                   A         B         C         D\n",
       "2013-01-05 -1.006146  0.404128  1.140711  0.904812\n",
       "2013-01-06 -0.898154  2.330872 -0.078123 -0.549798"
      ]
     },
     "execution_count": 13,
     "metadata": {},
     "output_type": "execute_result"
    }
   ],
   "source": [
    "df.tail(2)"
   ]
  },
  {
   "cell_type": "code",
   "execution_count": 14,
   "metadata": {
    "collapsed": false
   },
   "outputs": [
    {
     "data": {
      "text/plain": [
       "DatetimeIndex(['2013-01-01', '2013-01-02', '2013-01-03', '2013-01-04',\n",
       "               '2013-01-05', '2013-01-06'],\n",
       "              dtype='datetime64[ns]', freq='D')"
      ]
     },
     "execution_count": 14,
     "metadata": {},
     "output_type": "execute_result"
    }
   ],
   "source": [
    "df.index"
   ]
  },
  {
   "cell_type": "code",
   "execution_count": 15,
   "metadata": {
    "collapsed": false
   },
   "outputs": [
    {
     "data": {
      "text/plain": [
       "Index([u'A', u'B', u'C', u'D'], dtype='object')"
      ]
     },
     "execution_count": 15,
     "metadata": {},
     "output_type": "execute_result"
    }
   ],
   "source": [
    "df.columns"
   ]
  },
  {
   "cell_type": "code",
   "execution_count": 16,
   "metadata": {
    "collapsed": false
   },
   "outputs": [
    {
     "data": {
      "text/plain": [
       "array([[-0.0959524 , -0.25866752, -0.43175031,  2.60981294],\n",
       "       [ 0.38264642,  0.32435762, -0.78698922,  0.82309686],\n",
       "       [ 0.79048531,  0.36012104, -2.45016951,  0.26071191],\n",
       "       [-0.56162221, -1.14356798, -1.85328559,  1.37236948],\n",
       "       [-1.00614589,  0.40412825,  1.1407108 ,  0.90481238],\n",
       "       [-0.89815441,  2.33087248, -0.07812281, -0.549798  ]])"
      ]
     },
     "execution_count": 16,
     "metadata": {},
     "output_type": "execute_result"
    }
   ],
   "source": [
    "df.values"
   ]
  },
  {
   "cell_type": "code",
   "execution_count": 17,
   "metadata": {
    "collapsed": false
   },
   "outputs": [
    {
     "data": {
      "text/html": [
       "<div>\n",
       "<table border=\"1\" class=\"dataframe\">\n",
       "  <thead>\n",
       "    <tr style=\"text-align: right;\">\n",
       "      <th></th>\n",
       "      <th>A</th>\n",
       "      <th>B</th>\n",
       "      <th>C</th>\n",
       "      <th>D</th>\n",
       "    </tr>\n",
       "  </thead>\n",
       "  <tbody>\n",
       "    <tr>\n",
       "      <th>count</th>\n",
       "      <td>6.000000</td>\n",
       "      <td>6.000000</td>\n",
       "      <td>6.000000</td>\n",
       "      <td>6.000000</td>\n",
       "    </tr>\n",
       "    <tr>\n",
       "      <th>mean</th>\n",
       "      <td>-0.231457</td>\n",
       "      <td>0.336207</td>\n",
       "      <td>-0.743268</td>\n",
       "      <td>0.903501</td>\n",
       "    </tr>\n",
       "    <tr>\n",
       "      <th>std</th>\n",
       "      <td>0.720207</td>\n",
       "      <td>1.142596</td>\n",
       "      <td>1.283464</td>\n",
       "      <td>1.064242</td>\n",
       "    </tr>\n",
       "    <tr>\n",
       "      <th>min</th>\n",
       "      <td>-1.006146</td>\n",
       "      <td>-1.143568</td>\n",
       "      <td>-2.450170</td>\n",
       "      <td>-0.549798</td>\n",
       "    </tr>\n",
       "    <tr>\n",
       "      <th>25%</th>\n",
       "      <td>-0.814021</td>\n",
       "      <td>-0.112911</td>\n",
       "      <td>-1.586711</td>\n",
       "      <td>0.401308</td>\n",
       "    </tr>\n",
       "    <tr>\n",
       "      <th>50%</th>\n",
       "      <td>-0.328787</td>\n",
       "      <td>0.342239</td>\n",
       "      <td>-0.609370</td>\n",
       "      <td>0.863955</td>\n",
       "    </tr>\n",
       "    <tr>\n",
       "      <th>75%</th>\n",
       "      <td>0.262997</td>\n",
       "      <td>0.393126</td>\n",
       "      <td>-0.166530</td>\n",
       "      <td>1.255480</td>\n",
       "    </tr>\n",
       "    <tr>\n",
       "      <th>max</th>\n",
       "      <td>0.790485</td>\n",
       "      <td>2.330872</td>\n",
       "      <td>1.140711</td>\n",
       "      <td>2.609813</td>\n",
       "    </tr>\n",
       "  </tbody>\n",
       "</table>\n",
       "</div>"
      ],
      "text/plain": [
       "              A         B         C         D\n",
       "count  6.000000  6.000000  6.000000  6.000000\n",
       "mean  -0.231457  0.336207 -0.743268  0.903501\n",
       "std    0.720207  1.142596  1.283464  1.064242\n",
       "min   -1.006146 -1.143568 -2.450170 -0.549798\n",
       "25%   -0.814021 -0.112911 -1.586711  0.401308\n",
       "50%   -0.328787  0.342239 -0.609370  0.863955\n",
       "75%    0.262997  0.393126 -0.166530  1.255480\n",
       "max    0.790485  2.330872  1.140711  2.609813"
      ]
     },
     "execution_count": 17,
     "metadata": {},
     "output_type": "execute_result"
    }
   ],
   "source": [
    "df.describe()"
   ]
  },
  {
   "cell_type": "code",
   "execution_count": 18,
   "metadata": {
    "collapsed": false
   },
   "outputs": [
    {
     "data": {
      "text/plain": [
       "<bound method DataFrame.describe of                    A         B         C         D\n",
       "2013-01-01 -0.095952 -0.258668 -0.431750  2.609813\n",
       "2013-01-02  0.382646  0.324358 -0.786989  0.823097\n",
       "2013-01-03  0.790485  0.360121 -2.450170  0.260712\n",
       "2013-01-04 -0.561622 -1.143568 -1.853286  1.372369\n",
       "2013-01-05 -1.006146  0.404128  1.140711  0.904812\n",
       "2013-01-06 -0.898154  2.330872 -0.078123 -0.549798>"
      ]
     },
     "execution_count": 18,
     "metadata": {},
     "output_type": "execute_result"
    }
   ],
   "source": [
    "df.describe"
   ]
  },
  {
   "cell_type": "markdown",
   "metadata": {},
   "source": [
    "## Transposing a DataFrame"
   ]
  },
  {
   "cell_type": "code",
   "execution_count": 19,
   "metadata": {
    "collapsed": false
   },
   "outputs": [
    {
     "data": {
      "text/html": [
       "<div>\n",
       "<table border=\"1\" class=\"dataframe\">\n",
       "  <thead>\n",
       "    <tr style=\"text-align: right;\">\n",
       "      <th></th>\n",
       "      <th>2013-01-01 00:00:00</th>\n",
       "      <th>2013-01-02 00:00:00</th>\n",
       "      <th>2013-01-03 00:00:00</th>\n",
       "      <th>2013-01-04 00:00:00</th>\n",
       "      <th>2013-01-05 00:00:00</th>\n",
       "      <th>2013-01-06 00:00:00</th>\n",
       "    </tr>\n",
       "  </thead>\n",
       "  <tbody>\n",
       "    <tr>\n",
       "      <th>A</th>\n",
       "      <td>-0.095952</td>\n",
       "      <td>0.382646</td>\n",
       "      <td>0.790485</td>\n",
       "      <td>-0.561622</td>\n",
       "      <td>-1.006146</td>\n",
       "      <td>-0.898154</td>\n",
       "    </tr>\n",
       "    <tr>\n",
       "      <th>B</th>\n",
       "      <td>-0.258668</td>\n",
       "      <td>0.324358</td>\n",
       "      <td>0.360121</td>\n",
       "      <td>-1.143568</td>\n",
       "      <td>0.404128</td>\n",
       "      <td>2.330872</td>\n",
       "    </tr>\n",
       "    <tr>\n",
       "      <th>C</th>\n",
       "      <td>-0.431750</td>\n",
       "      <td>-0.786989</td>\n",
       "      <td>-2.450170</td>\n",
       "      <td>-1.853286</td>\n",
       "      <td>1.140711</td>\n",
       "      <td>-0.078123</td>\n",
       "    </tr>\n",
       "    <tr>\n",
       "      <th>D</th>\n",
       "      <td>2.609813</td>\n",
       "      <td>0.823097</td>\n",
       "      <td>0.260712</td>\n",
       "      <td>1.372369</td>\n",
       "      <td>0.904812</td>\n",
       "      <td>-0.549798</td>\n",
       "    </tr>\n",
       "  </tbody>\n",
       "</table>\n",
       "</div>"
      ],
      "text/plain": [
       "   2013-01-01  2013-01-02  2013-01-03  2013-01-04  2013-01-05  2013-01-06\n",
       "A   -0.095952    0.382646    0.790485   -0.561622   -1.006146   -0.898154\n",
       "B   -0.258668    0.324358    0.360121   -1.143568    0.404128    2.330872\n",
       "C   -0.431750   -0.786989   -2.450170   -1.853286    1.140711   -0.078123\n",
       "D    2.609813    0.823097    0.260712    1.372369    0.904812   -0.549798"
      ]
     },
     "execution_count": 19,
     "metadata": {},
     "output_type": "execute_result"
    }
   ],
   "source": [
    "df.T"
   ]
  },
  {
   "cell_type": "markdown",
   "metadata": {},
   "source": [
    "## Sorting along different axis"
   ]
  },
  {
   "cell_type": "code",
   "execution_count": 26,
   "metadata": {
    "collapsed": false
   },
   "outputs": [
    {
     "data": {
      "text/html": [
       "<div>\n",
       "<table border=\"1\" class=\"dataframe\">\n",
       "  <thead>\n",
       "    <tr style=\"text-align: right;\">\n",
       "      <th></th>\n",
       "      <th>D</th>\n",
       "      <th>C</th>\n",
       "      <th>B</th>\n",
       "      <th>A</th>\n",
       "    </tr>\n",
       "  </thead>\n",
       "  <tbody>\n",
       "    <tr>\n",
       "      <th>2013-01-01</th>\n",
       "      <td>2.609813</td>\n",
       "      <td>-0.431750</td>\n",
       "      <td>-0.258668</td>\n",
       "      <td>-0.095952</td>\n",
       "    </tr>\n",
       "    <tr>\n",
       "      <th>2013-01-02</th>\n",
       "      <td>0.823097</td>\n",
       "      <td>-0.786989</td>\n",
       "      <td>0.324358</td>\n",
       "      <td>0.382646</td>\n",
       "    </tr>\n",
       "    <tr>\n",
       "      <th>2013-01-03</th>\n",
       "      <td>0.260712</td>\n",
       "      <td>-2.450170</td>\n",
       "      <td>0.360121</td>\n",
       "      <td>0.790485</td>\n",
       "    </tr>\n",
       "    <tr>\n",
       "      <th>2013-01-04</th>\n",
       "      <td>1.372369</td>\n",
       "      <td>-1.853286</td>\n",
       "      <td>-1.143568</td>\n",
       "      <td>-0.561622</td>\n",
       "    </tr>\n",
       "    <tr>\n",
       "      <th>2013-01-05</th>\n",
       "      <td>0.904812</td>\n",
       "      <td>1.140711</td>\n",
       "      <td>0.404128</td>\n",
       "      <td>-1.006146</td>\n",
       "    </tr>\n",
       "    <tr>\n",
       "      <th>2013-01-06</th>\n",
       "      <td>-0.549798</td>\n",
       "      <td>-0.078123</td>\n",
       "      <td>2.330872</td>\n",
       "      <td>-0.898154</td>\n",
       "    </tr>\n",
       "  </tbody>\n",
       "</table>\n",
       "</div>"
      ],
      "text/plain": [
       "                   D         C         B         A\n",
       "2013-01-01  2.609813 -0.431750 -0.258668 -0.095952\n",
       "2013-01-02  0.823097 -0.786989  0.324358  0.382646\n",
       "2013-01-03  0.260712 -2.450170  0.360121  0.790485\n",
       "2013-01-04  1.372369 -1.853286 -1.143568 -0.561622\n",
       "2013-01-05  0.904812  1.140711  0.404128 -1.006146\n",
       "2013-01-06 -0.549798 -0.078123  2.330872 -0.898154"
      ]
     },
     "execution_count": 26,
     "metadata": {},
     "output_type": "execute_result"
    }
   ],
   "source": [
    "df.sort_index(axis=1,ascending=False)"
   ]
  },
  {
   "cell_type": "code",
   "execution_count": 28,
   "metadata": {
    "collapsed": false
   },
   "outputs": [
    {
     "name": "stderr",
     "output_type": "stream",
     "text": [
      "C:\\Users\\Avinav\\Anaconda2\\lib\\site-packages\\ipykernel\\__main__.py:1: FutureWarning: sort(columns=....) is deprecated, use sort_values(by=.....)\n",
      "  if __name__ == '__main__':\n"
     ]
    },
    {
     "data": {
      "text/html": [
       "<div>\n",
       "<table border=\"1\" class=\"dataframe\">\n",
       "  <thead>\n",
       "    <tr style=\"text-align: right;\">\n",
       "      <th></th>\n",
       "      <th>A</th>\n",
       "      <th>B</th>\n",
       "      <th>C</th>\n",
       "      <th>D</th>\n",
       "    </tr>\n",
       "  </thead>\n",
       "  <tbody>\n",
       "    <tr>\n",
       "      <th>2013-01-04</th>\n",
       "      <td>-0.561622</td>\n",
       "      <td>-1.143568</td>\n",
       "      <td>-1.853286</td>\n",
       "      <td>1.372369</td>\n",
       "    </tr>\n",
       "    <tr>\n",
       "      <th>2013-01-01</th>\n",
       "      <td>-0.095952</td>\n",
       "      <td>-0.258668</td>\n",
       "      <td>-0.431750</td>\n",
       "      <td>2.609813</td>\n",
       "    </tr>\n",
       "    <tr>\n",
       "      <th>2013-01-02</th>\n",
       "      <td>0.382646</td>\n",
       "      <td>0.324358</td>\n",
       "      <td>-0.786989</td>\n",
       "      <td>0.823097</td>\n",
       "    </tr>\n",
       "    <tr>\n",
       "      <th>2013-01-03</th>\n",
       "      <td>0.790485</td>\n",
       "      <td>0.360121</td>\n",
       "      <td>-2.450170</td>\n",
       "      <td>0.260712</td>\n",
       "    </tr>\n",
       "    <tr>\n",
       "      <th>2013-01-05</th>\n",
       "      <td>-1.006146</td>\n",
       "      <td>0.404128</td>\n",
       "      <td>1.140711</td>\n",
       "      <td>0.904812</td>\n",
       "    </tr>\n",
       "    <tr>\n",
       "      <th>2013-01-06</th>\n",
       "      <td>-0.898154</td>\n",
       "      <td>2.330872</td>\n",
       "      <td>-0.078123</td>\n",
       "      <td>-0.549798</td>\n",
       "    </tr>\n",
       "  </tbody>\n",
       "</table>\n",
       "</div>"
      ],
      "text/plain": [
       "                   A         B         C         D\n",
       "2013-01-04 -0.561622 -1.143568 -1.853286  1.372369\n",
       "2013-01-01 -0.095952 -0.258668 -0.431750  2.609813\n",
       "2013-01-02  0.382646  0.324358 -0.786989  0.823097\n",
       "2013-01-03  0.790485  0.360121 -2.450170  0.260712\n",
       "2013-01-05 -1.006146  0.404128  1.140711  0.904812\n",
       "2013-01-06 -0.898154  2.330872 -0.078123 -0.549798"
      ]
     },
     "execution_count": 28,
     "metadata": {},
     "output_type": "execute_result"
    }
   ],
   "source": [
    "df.sort(columns='B',ascending=True)"
   ]
  },
  {
   "cell_type": "markdown",
   "metadata": {},
   "source": [
    "## Subsetting and accessing data selectively"
   ]
  },
  {
   "cell_type": "code",
   "execution_count": 31,
   "metadata": {
    "collapsed": false
   },
   "outputs": [
    {
     "data": {
      "text/plain": [
       "2013-01-01   -0.095952\n",
       "2013-01-02    0.382646\n",
       "2013-01-03    0.790485\n",
       "2013-01-04   -0.561622\n",
       "2013-01-05   -1.006146\n",
       "2013-01-06   -0.898154\n",
       "Freq: D, Name: A, dtype: float64"
      ]
     },
     "execution_count": 31,
     "metadata": {},
     "output_type": "execute_result"
    }
   ],
   "source": [
    "df['A']"
   ]
  },
  {
   "cell_type": "code",
   "execution_count": 32,
   "metadata": {
    "collapsed": false
   },
   "outputs": [
    {
     "data": {
      "text/plain": [
       "2013-01-01   -0.095952\n",
       "2013-01-02    0.382646\n",
       "2013-01-03    0.790485\n",
       "2013-01-04   -0.561622\n",
       "2013-01-05   -1.006146\n",
       "2013-01-06   -0.898154\n",
       "Freq: D, Name: A, dtype: float64"
      ]
     },
     "execution_count": 32,
     "metadata": {},
     "output_type": "execute_result"
    }
   ],
   "source": [
    "df.A"
   ]
  },
  {
   "cell_type": "code",
   "execution_count": 33,
   "metadata": {
    "collapsed": false
   },
   "outputs": [
    {
     "data": {
      "text/html": [
       "<div>\n",
       "<table border=\"1\" class=\"dataframe\">\n",
       "  <thead>\n",
       "    <tr style=\"text-align: right;\">\n",
       "      <th></th>\n",
       "      <th>A</th>\n",
       "      <th>B</th>\n",
       "      <th>C</th>\n",
       "      <th>D</th>\n",
       "    </tr>\n",
       "  </thead>\n",
       "  <tbody>\n",
       "    <tr>\n",
       "      <th>2013-01-01</th>\n",
       "      <td>-0.095952</td>\n",
       "      <td>-0.258668</td>\n",
       "      <td>-0.431750</td>\n",
       "      <td>2.609813</td>\n",
       "    </tr>\n",
       "    <tr>\n",
       "      <th>2013-01-02</th>\n",
       "      <td>0.382646</td>\n",
       "      <td>0.324358</td>\n",
       "      <td>-0.786989</td>\n",
       "      <td>0.823097</td>\n",
       "    </tr>\n",
       "    <tr>\n",
       "      <th>2013-01-03</th>\n",
       "      <td>0.790485</td>\n",
       "      <td>0.360121</td>\n",
       "      <td>-2.450170</td>\n",
       "      <td>0.260712</td>\n",
       "    </tr>\n",
       "  </tbody>\n",
       "</table>\n",
       "</div>"
      ],
      "text/plain": [
       "                   A         B         C         D\n",
       "2013-01-01 -0.095952 -0.258668 -0.431750  2.609813\n",
       "2013-01-02  0.382646  0.324358 -0.786989  0.823097\n",
       "2013-01-03  0.790485  0.360121 -2.450170  0.260712"
      ]
     },
     "execution_count": 33,
     "metadata": {},
     "output_type": "execute_result"
    }
   ],
   "source": [
    "df[0:3]"
   ]
  },
  {
   "cell_type": "code",
   "execution_count": 35,
   "metadata": {
    "collapsed": false
   },
   "outputs": [
    {
     "data": {
      "text/plain": [
       "A   -0.095952\n",
       "B   -0.258668\n",
       "C   -0.431750\n",
       "D    2.609813\n",
       "Name: 2013-01-01 00:00:00, dtype: float64"
      ]
     },
     "execution_count": 35,
     "metadata": {},
     "output_type": "execute_result"
    }
   ],
   "source": [
    "df.loc[dates[0]]"
   ]
  },
  {
   "cell_type": "code",
   "execution_count": 36,
   "metadata": {
    "collapsed": false
   },
   "outputs": [
    {
     "data": {
      "text/html": [
       "<div>\n",
       "<table border=\"1\" class=\"dataframe\">\n",
       "  <thead>\n",
       "    <tr style=\"text-align: right;\">\n",
       "      <th></th>\n",
       "      <th>A</th>\n",
       "      <th>B</th>\n",
       "    </tr>\n",
       "  </thead>\n",
       "  <tbody>\n",
       "    <tr>\n",
       "      <th>2013-01-01</th>\n",
       "      <td>-0.095952</td>\n",
       "      <td>-0.258668</td>\n",
       "    </tr>\n",
       "    <tr>\n",
       "      <th>2013-01-02</th>\n",
       "      <td>0.382646</td>\n",
       "      <td>0.324358</td>\n",
       "    </tr>\n",
       "    <tr>\n",
       "      <th>2013-01-03</th>\n",
       "      <td>0.790485</td>\n",
       "      <td>0.360121</td>\n",
       "    </tr>\n",
       "    <tr>\n",
       "      <th>2013-01-04</th>\n",
       "      <td>-0.561622</td>\n",
       "      <td>-1.143568</td>\n",
       "    </tr>\n",
       "    <tr>\n",
       "      <th>2013-01-05</th>\n",
       "      <td>-1.006146</td>\n",
       "      <td>0.404128</td>\n",
       "    </tr>\n",
       "    <tr>\n",
       "      <th>2013-01-06</th>\n",
       "      <td>-0.898154</td>\n",
       "      <td>2.330872</td>\n",
       "    </tr>\n",
       "  </tbody>\n",
       "</table>\n",
       "</div>"
      ],
      "text/plain": [
       "                   A         B\n",
       "2013-01-01 -0.095952 -0.258668\n",
       "2013-01-02  0.382646  0.324358\n",
       "2013-01-03  0.790485  0.360121\n",
       "2013-01-04 -0.561622 -1.143568\n",
       "2013-01-05 -1.006146  0.404128\n",
       "2013-01-06 -0.898154  2.330872"
      ]
     },
     "execution_count": 36,
     "metadata": {},
     "output_type": "execute_result"
    }
   ],
   "source": [
    "df.loc[:,['A','B']]"
   ]
  },
  {
   "cell_type": "code",
   "execution_count": 37,
   "metadata": {
    "collapsed": false
   },
   "outputs": [
    {
     "data": {
      "text/plain": [
       "-0.095952399011969752"
      ]
     },
     "execution_count": 37,
     "metadata": {},
     "output_type": "execute_result"
    }
   ],
   "source": [
    "df.at[dates[0],'A']\n"
   ]
  },
  {
   "cell_type": "code",
   "execution_count": 40,
   "metadata": {
    "collapsed": false
   },
   "outputs": [
    {
     "data": {
      "text/html": [
       "<div>\n",
       "<table border=\"1\" class=\"dataframe\">\n",
       "  <thead>\n",
       "    <tr style=\"text-align: right;\">\n",
       "      <th></th>\n",
       "      <th>A</th>\n",
       "      <th>B</th>\n",
       "      <th>C</th>\n",
       "      <th>D</th>\n",
       "    </tr>\n",
       "  </thead>\n",
       "  <tbody>\n",
       "    <tr>\n",
       "      <th>2013-01-01</th>\n",
       "      <td>-0.095952</td>\n",
       "      <td>-0.258668</td>\n",
       "      <td>-0.431750</td>\n",
       "      <td>2.609813</td>\n",
       "    </tr>\n",
       "    <tr>\n",
       "      <th>2013-01-02</th>\n",
       "      <td>0.382646</td>\n",
       "      <td>0.324358</td>\n",
       "      <td>-0.786989</td>\n",
       "      <td>0.823097</td>\n",
       "    </tr>\n",
       "    <tr>\n",
       "      <th>2013-01-03</th>\n",
       "      <td>0.790485</td>\n",
       "      <td>0.360121</td>\n",
       "      <td>-2.450170</td>\n",
       "      <td>0.260712</td>\n",
       "    </tr>\n",
       "    <tr>\n",
       "      <th>2013-01-04</th>\n",
       "      <td>-0.561622</td>\n",
       "      <td>-1.143568</td>\n",
       "      <td>-1.853286</td>\n",
       "      <td>1.372369</td>\n",
       "    </tr>\n",
       "    <tr>\n",
       "      <th>2013-01-05</th>\n",
       "      <td>-1.006146</td>\n",
       "      <td>0.404128</td>\n",
       "      <td>1.140711</td>\n",
       "      <td>0.904812</td>\n",
       "    </tr>\n",
       "    <tr>\n",
       "      <th>2013-01-06</th>\n",
       "      <td>-0.898154</td>\n",
       "      <td>2.330872</td>\n",
       "      <td>-0.078123</td>\n",
       "      <td>-0.549798</td>\n",
       "    </tr>\n",
       "  </tbody>\n",
       "</table>\n",
       "</div>"
      ],
      "text/plain": [
       "                   A         B         C         D\n",
       "2013-01-01 -0.095952 -0.258668 -0.431750  2.609813\n",
       "2013-01-02  0.382646  0.324358 -0.786989  0.823097\n",
       "2013-01-03  0.790485  0.360121 -2.450170  0.260712\n",
       "2013-01-04 -0.561622 -1.143568 -1.853286  1.372369\n",
       "2013-01-05 -1.006146  0.404128  1.140711  0.904812\n",
       "2013-01-06 -0.898154  2.330872 -0.078123 -0.549798"
      ]
     },
     "execution_count": 40,
     "metadata": {},
     "output_type": "execute_result"
    }
   ],
   "source": [
    "df"
   ]
  },
  {
   "cell_type": "code",
   "execution_count": 41,
   "metadata": {
    "collapsed": false
   },
   "outputs": [
    {
     "data": {
      "text/plain": [
       "A   -0.561622\n",
       "B   -1.143568\n",
       "C   -1.853286\n",
       "D    1.372369\n",
       "Name: 2013-01-04 00:00:00, dtype: float64"
      ]
     },
     "execution_count": 41,
     "metadata": {},
     "output_type": "execute_result"
    }
   ],
   "source": [
    "df.iloc[3]"
   ]
  },
  {
   "cell_type": "code",
   "execution_count": 44,
   "metadata": {
    "collapsed": false
   },
   "outputs": [
    {
     "data": {
      "text/html": [
       "<div>\n",
       "<table border=\"1\" class=\"dataframe\">\n",
       "  <thead>\n",
       "    <tr style=\"text-align: right;\">\n",
       "      <th></th>\n",
       "      <th>A</th>\n",
       "      <th>B</th>\n",
       "      <th>C</th>\n",
       "      <th>D</th>\n",
       "    </tr>\n",
       "  </thead>\n",
       "  <tbody>\n",
       "    <tr>\n",
       "      <th>2013-01-01</th>\n",
       "      <td>-0.095952</td>\n",
       "      <td>-0.258668</td>\n",
       "      <td>-0.431750</td>\n",
       "      <td>2.609813</td>\n",
       "    </tr>\n",
       "    <tr>\n",
       "      <th>2013-01-02</th>\n",
       "      <td>0.382646</td>\n",
       "      <td>0.324358</td>\n",
       "      <td>-0.786989</td>\n",
       "      <td>0.823097</td>\n",
       "    </tr>\n",
       "    <tr>\n",
       "      <th>2013-01-03</th>\n",
       "      <td>0.790485</td>\n",
       "      <td>0.360121</td>\n",
       "      <td>-2.450170</td>\n",
       "      <td>0.260712</td>\n",
       "    </tr>\n",
       "    <tr>\n",
       "      <th>2013-01-04</th>\n",
       "      <td>-0.561622</td>\n",
       "      <td>-1.143568</td>\n",
       "      <td>-1.853286</td>\n",
       "      <td>1.372369</td>\n",
       "    </tr>\n",
       "  </tbody>\n",
       "</table>\n",
       "</div>"
      ],
      "text/plain": [
       "                   A         B         C         D\n",
       "2013-01-01 -0.095952 -0.258668 -0.431750  2.609813\n",
       "2013-01-02  0.382646  0.324358 -0.786989  0.823097\n",
       "2013-01-03  0.790485  0.360121 -2.450170  0.260712\n",
       "2013-01-04 -0.561622 -1.143568 -1.853286  1.372369"
      ]
     },
     "execution_count": 44,
     "metadata": {},
     "output_type": "execute_result"
    }
   ],
   "source": [
    "df.iloc[[0,1,2,3],0:4]"
   ]
  },
  {
   "cell_type": "code",
   "execution_count": 48,
   "metadata": {
    "collapsed": false
   },
   "outputs": [
    {
     "data": {
      "text/html": [
       "<div>\n",
       "<table border=\"1\" class=\"dataframe\">\n",
       "  <thead>\n",
       "    <tr style=\"text-align: right;\">\n",
       "      <th></th>\n",
       "      <th>A</th>\n",
       "      <th>B</th>\n",
       "      <th>C</th>\n",
       "      <th>D</th>\n",
       "    </tr>\n",
       "  </thead>\n",
       "  <tbody>\n",
       "    <tr>\n",
       "      <th>2013-01-02</th>\n",
       "      <td>0.382646</td>\n",
       "      <td>0.324358</td>\n",
       "      <td>-0.786989</td>\n",
       "      <td>0.823097</td>\n",
       "    </tr>\n",
       "    <tr>\n",
       "      <th>2013-01-03</th>\n",
       "      <td>0.790485</td>\n",
       "      <td>0.360121</td>\n",
       "      <td>-2.450170</td>\n",
       "      <td>0.260712</td>\n",
       "    </tr>\n",
       "  </tbody>\n",
       "</table>\n",
       "</div>"
      ],
      "text/plain": [
       "                   A         B         C         D\n",
       "2013-01-02  0.382646  0.324358 -0.786989  0.823097\n",
       "2013-01-03  0.790485  0.360121 -2.450170  0.260712"
      ]
     },
     "execution_count": 48,
     "metadata": {},
     "output_type": "execute_result"
    }
   ],
   "source": [
    "df[df.A>0] #Using a boolean subsetting"
   ]
  },
  {
   "cell_type": "code",
   "execution_count": 50,
   "metadata": {
    "collapsed": false
   },
   "outputs": [],
   "source": [
    "s1 = pd.Series([1,2,3,4,5,6],index= pd.date_range('20130101',periods=6))"
   ]
  },
  {
   "cell_type": "markdown",
   "metadata": {},
   "source": [
    "s1"
   ]
  },
  {
   "cell_type": "code",
   "execution_count": 51,
   "metadata": {
    "collapsed": false
   },
   "outputs": [
    {
     "data": {
      "text/plain": [
       "2013-01-01    1\n",
       "2013-01-02    2\n",
       "2013-01-03    3\n",
       "2013-01-04    4\n",
       "2013-01-05    5\n",
       "2013-01-06    6\n",
       "Freq: D, dtype: int64"
      ]
     },
     "execution_count": 51,
     "metadata": {},
     "output_type": "execute_result"
    }
   ],
   "source": [
    "s1"
   ]
  },
  {
   "cell_type": "code",
   "execution_count": 52,
   "metadata": {
    "collapsed": true
   },
   "outputs": [],
   "source": [
    "df['F']=s1"
   ]
  },
  {
   "cell_type": "code",
   "execution_count": 53,
   "metadata": {
    "collapsed": false
   },
   "outputs": [
    {
     "data": {
      "text/html": [
       "<div>\n",
       "<table border=\"1\" class=\"dataframe\">\n",
       "  <thead>\n",
       "    <tr style=\"text-align: right;\">\n",
       "      <th></th>\n",
       "      <th>A</th>\n",
       "      <th>B</th>\n",
       "      <th>C</th>\n",
       "      <th>D</th>\n",
       "      <th>F</th>\n",
       "    </tr>\n",
       "  </thead>\n",
       "  <tbody>\n",
       "    <tr>\n",
       "      <th>2013-01-01</th>\n",
       "      <td>-0.095952</td>\n",
       "      <td>-0.258668</td>\n",
       "      <td>-0.431750</td>\n",
       "      <td>2.609813</td>\n",
       "      <td>1</td>\n",
       "    </tr>\n",
       "    <tr>\n",
       "      <th>2013-01-02</th>\n",
       "      <td>0.382646</td>\n",
       "      <td>0.324358</td>\n",
       "      <td>-0.786989</td>\n",
       "      <td>0.823097</td>\n",
       "      <td>2</td>\n",
       "    </tr>\n",
       "    <tr>\n",
       "      <th>2013-01-03</th>\n",
       "      <td>0.790485</td>\n",
       "      <td>0.360121</td>\n",
       "      <td>-2.450170</td>\n",
       "      <td>0.260712</td>\n",
       "      <td>3</td>\n",
       "    </tr>\n",
       "    <tr>\n",
       "      <th>2013-01-04</th>\n",
       "      <td>-0.561622</td>\n",
       "      <td>-1.143568</td>\n",
       "      <td>-1.853286</td>\n",
       "      <td>1.372369</td>\n",
       "      <td>4</td>\n",
       "    </tr>\n",
       "    <tr>\n",
       "      <th>2013-01-05</th>\n",
       "      <td>-1.006146</td>\n",
       "      <td>0.404128</td>\n",
       "      <td>1.140711</td>\n",
       "      <td>0.904812</td>\n",
       "      <td>5</td>\n",
       "    </tr>\n",
       "    <tr>\n",
       "      <th>2013-01-06</th>\n",
       "      <td>-0.898154</td>\n",
       "      <td>2.330872</td>\n",
       "      <td>-0.078123</td>\n",
       "      <td>-0.549798</td>\n",
       "      <td>6</td>\n",
       "    </tr>\n",
       "  </tbody>\n",
       "</table>\n",
       "</div>"
      ],
      "text/plain": [
       "                   A         B         C         D  F\n",
       "2013-01-01 -0.095952 -0.258668 -0.431750  2.609813  1\n",
       "2013-01-02  0.382646  0.324358 -0.786989  0.823097  2\n",
       "2013-01-03  0.790485  0.360121 -2.450170  0.260712  3\n",
       "2013-01-04 -0.561622 -1.143568 -1.853286  1.372369  4\n",
       "2013-01-05 -1.006146  0.404128  1.140711  0.904812  5\n",
       "2013-01-06 -0.898154  2.330872 -0.078123 -0.549798  6"
      ]
     },
     "execution_count": 53,
     "metadata": {},
     "output_type": "execute_result"
    }
   ],
   "source": [
    "df"
   ]
  },
  {
   "cell_type": "code",
   "execution_count": 54,
   "metadata": {
    "collapsed": true
   },
   "outputs": [],
   "source": [
    "df.at[dates[0],'A']=0"
   ]
  },
  {
   "cell_type": "code",
   "execution_count": 65,
   "metadata": {
    "collapsed": false
   },
   "outputs": [
    {
     "data": {
      "text/html": [
       "<div>\n",
       "<table border=\"1\" class=\"dataframe\">\n",
       "  <thead>\n",
       "    <tr style=\"text-align: right;\">\n",
       "      <th></th>\n",
       "      <th>A</th>\n",
       "      <th>B</th>\n",
       "      <th>C</th>\n",
       "      <th>D</th>\n",
       "      <th>F</th>\n",
       "      <th>E</th>\n",
       "    </tr>\n",
       "  </thead>\n",
       "  <tbody>\n",
       "    <tr>\n",
       "      <th>2013-01-01</th>\n",
       "      <td>1.000000</td>\n",
       "      <td>-0.258668</td>\n",
       "      <td>-0.431750</td>\n",
       "      <td>2.609813</td>\n",
       "      <td>1</td>\n",
       "      <td>NaN</td>\n",
       "    </tr>\n",
       "    <tr>\n",
       "      <th>2013-01-02</th>\n",
       "      <td>0.382646</td>\n",
       "      <td>0.324358</td>\n",
       "      <td>-0.786989</td>\n",
       "      <td>0.823097</td>\n",
       "      <td>2</td>\n",
       "      <td>NaN</td>\n",
       "    </tr>\n",
       "    <tr>\n",
       "      <th>2013-01-03</th>\n",
       "      <td>0.790485</td>\n",
       "      <td>0.360121</td>\n",
       "      <td>-2.450170</td>\n",
       "      <td>0.260712</td>\n",
       "      <td>3</td>\n",
       "      <td>NaN</td>\n",
       "    </tr>\n",
       "    <tr>\n",
       "      <th>2013-01-04</th>\n",
       "      <td>-0.561622</td>\n",
       "      <td>-1.143568</td>\n",
       "      <td>-1.853286</td>\n",
       "      <td>1.372369</td>\n",
       "      <td>4</td>\n",
       "      <td>NaN</td>\n",
       "    </tr>\n",
       "    <tr>\n",
       "      <th>2013-01-05</th>\n",
       "      <td>-1.006146</td>\n",
       "      <td>0.404128</td>\n",
       "      <td>1.140711</td>\n",
       "      <td>0.904812</td>\n",
       "      <td>5</td>\n",
       "      <td>NaN</td>\n",
       "    </tr>\n",
       "    <tr>\n",
       "      <th>2013-01-06</th>\n",
       "      <td>-0.898154</td>\n",
       "      <td>2.330872</td>\n",
       "      <td>-0.078123</td>\n",
       "      <td>-0.549798</td>\n",
       "      <td>6</td>\n",
       "      <td>NaN</td>\n",
       "    </tr>\n",
       "  </tbody>\n",
       "</table>\n",
       "</div>"
      ],
      "text/plain": [
       "                   A         B         C         D  F   E\n",
       "2013-01-01  1.000000 -0.258668 -0.431750  2.609813  1 NaN\n",
       "2013-01-02  0.382646  0.324358 -0.786989  0.823097  2 NaN\n",
       "2013-01-03  0.790485  0.360121 -2.450170  0.260712  3 NaN\n",
       "2013-01-04 -0.561622 -1.143568 -1.853286  1.372369  4 NaN\n",
       "2013-01-05 -1.006146  0.404128  1.140711  0.904812  5 NaN\n",
       "2013-01-06 -0.898154  2.330872 -0.078123 -0.549798  6 NaN"
      ]
     },
     "execution_count": 65,
     "metadata": {},
     "output_type": "execute_result"
    }
   ],
   "source": [
    "df"
   ]
  },
  {
   "cell_type": "code",
   "execution_count": 56,
   "metadata": {
    "collapsed": true
   },
   "outputs": [],
   "source": [
    "df.iat[0,0]=1"
   ]
  },
  {
   "cell_type": "code",
   "execution_count": 64,
   "metadata": {
    "collapsed": false
   },
   "outputs": [],
   "source": [
    "df['E']=pd.Series()"
   ]
  },
  {
   "cell_type": "code",
   "execution_count": 74,
   "metadata": {
    "collapsed": false
   },
   "outputs": [
    {
     "data": {
      "text/html": [
       "<div>\n",
       "<table border=\"1\" class=\"dataframe\">\n",
       "  <thead>\n",
       "    <tr style=\"text-align: right;\">\n",
       "      <th></th>\n",
       "      <th>A</th>\n",
       "      <th>B</th>\n",
       "      <th>C</th>\n",
       "      <th>D</th>\n",
       "      <th>F</th>\n",
       "      <th>E</th>\n",
       "    </tr>\n",
       "  </thead>\n",
       "  <tbody>\n",
       "    <tr>\n",
       "      <th>2013-01-01</th>\n",
       "      <td>1.000000</td>\n",
       "      <td>-0.258668</td>\n",
       "      <td>-0.431750</td>\n",
       "      <td>2.609813</td>\n",
       "      <td>1</td>\n",
       "      <td>NaN</td>\n",
       "    </tr>\n",
       "    <tr>\n",
       "      <th>2013-01-02</th>\n",
       "      <td>0.382646</td>\n",
       "      <td>0.324358</td>\n",
       "      <td>-0.786989</td>\n",
       "      <td>0.823097</td>\n",
       "      <td>2</td>\n",
       "      <td>NaN</td>\n",
       "    </tr>\n",
       "    <tr>\n",
       "      <th>2013-01-03</th>\n",
       "      <td>0.790485</td>\n",
       "      <td>0.360121</td>\n",
       "      <td>-2.450170</td>\n",
       "      <td>0.260712</td>\n",
       "      <td>3</td>\n",
       "      <td>NaN</td>\n",
       "    </tr>\n",
       "    <tr>\n",
       "      <th>2013-01-04</th>\n",
       "      <td>-0.561622</td>\n",
       "      <td>-1.143568</td>\n",
       "      <td>-1.853286</td>\n",
       "      <td>1.372369</td>\n",
       "      <td>4</td>\n",
       "      <td>NaN</td>\n",
       "    </tr>\n",
       "    <tr>\n",
       "      <th>2013-01-05</th>\n",
       "      <td>-1.006146</td>\n",
       "      <td>0.404128</td>\n",
       "      <td>1.140711</td>\n",
       "      <td>0.904812</td>\n",
       "      <td>5</td>\n",
       "      <td>NaN</td>\n",
       "    </tr>\n",
       "    <tr>\n",
       "      <th>2013-01-06</th>\n",
       "      <td>-0.898154</td>\n",
       "      <td>2.330872</td>\n",
       "      <td>-0.078123</td>\n",
       "      <td>-0.549798</td>\n",
       "      <td>6</td>\n",
       "      <td>NaN</td>\n",
       "    </tr>\n",
       "  </tbody>\n",
       "</table>\n",
       "</div>"
      ],
      "text/plain": [
       "                   A         B         C         D  F   E\n",
       "2013-01-01  1.000000 -0.258668 -0.431750  2.609813  1 NaN\n",
       "2013-01-02  0.382646  0.324358 -0.786989  0.823097  2 NaN\n",
       "2013-01-03  0.790485  0.360121 -2.450170  0.260712  3 NaN\n",
       "2013-01-04 -0.561622 -1.143568 -1.853286  1.372369  4 NaN\n",
       "2013-01-05 -1.006146  0.404128  1.140711  0.904812  5 NaN\n",
       "2013-01-06 -0.898154  2.330872 -0.078123 -0.549798  6 NaN"
      ]
     },
     "execution_count": 74,
     "metadata": {},
     "output_type": "execute_result"
    }
   ],
   "source": [
    "df"
   ]
  },
  {
   "cell_type": "code",
   "execution_count": 77,
   "metadata": {
    "collapsed": false
   },
   "outputs": [],
   "source": [
    "df = df.fillna(value=5)"
   ]
  },
  {
   "cell_type": "code",
   "execution_count": 78,
   "metadata": {
    "collapsed": false
   },
   "outputs": [
    {
     "data": {
      "text/html": [
       "<div>\n",
       "<table border=\"1\" class=\"dataframe\">\n",
       "  <thead>\n",
       "    <tr style=\"text-align: right;\">\n",
       "      <th></th>\n",
       "      <th>A</th>\n",
       "      <th>B</th>\n",
       "      <th>C</th>\n",
       "      <th>D</th>\n",
       "      <th>F</th>\n",
       "      <th>E</th>\n",
       "    </tr>\n",
       "  </thead>\n",
       "  <tbody>\n",
       "    <tr>\n",
       "      <th>2013-01-01</th>\n",
       "      <td>False</td>\n",
       "      <td>False</td>\n",
       "      <td>False</td>\n",
       "      <td>False</td>\n",
       "      <td>False</td>\n",
       "      <td>False</td>\n",
       "    </tr>\n",
       "    <tr>\n",
       "      <th>2013-01-02</th>\n",
       "      <td>False</td>\n",
       "      <td>False</td>\n",
       "      <td>False</td>\n",
       "      <td>False</td>\n",
       "      <td>False</td>\n",
       "      <td>False</td>\n",
       "    </tr>\n",
       "    <tr>\n",
       "      <th>2013-01-03</th>\n",
       "      <td>False</td>\n",
       "      <td>False</td>\n",
       "      <td>False</td>\n",
       "      <td>False</td>\n",
       "      <td>False</td>\n",
       "      <td>False</td>\n",
       "    </tr>\n",
       "    <tr>\n",
       "      <th>2013-01-04</th>\n",
       "      <td>False</td>\n",
       "      <td>False</td>\n",
       "      <td>False</td>\n",
       "      <td>False</td>\n",
       "      <td>False</td>\n",
       "      <td>False</td>\n",
       "    </tr>\n",
       "    <tr>\n",
       "      <th>2013-01-05</th>\n",
       "      <td>False</td>\n",
       "      <td>False</td>\n",
       "      <td>False</td>\n",
       "      <td>False</td>\n",
       "      <td>False</td>\n",
       "      <td>False</td>\n",
       "    </tr>\n",
       "    <tr>\n",
       "      <th>2013-01-06</th>\n",
       "      <td>False</td>\n",
       "      <td>False</td>\n",
       "      <td>False</td>\n",
       "      <td>False</td>\n",
       "      <td>False</td>\n",
       "      <td>False</td>\n",
       "    </tr>\n",
       "  </tbody>\n",
       "</table>\n",
       "</div>"
      ],
      "text/plain": [
       "                A      B      C      D      F      E\n",
       "2013-01-01  False  False  False  False  False  False\n",
       "2013-01-02  False  False  False  False  False  False\n",
       "2013-01-03  False  False  False  False  False  False\n",
       "2013-01-04  False  False  False  False  False  False\n",
       "2013-01-05  False  False  False  False  False  False\n",
       "2013-01-06  False  False  False  False  False  False"
      ]
     },
     "execution_count": 78,
     "metadata": {},
     "output_type": "execute_result"
    }
   ],
   "source": [
    "pd.isnull(df)"
   ]
  },
  {
   "cell_type": "markdown",
   "metadata": {},
   "source": [
    "## Cumulative functions- mean and median "
   ]
  },
  {
   "cell_type": "code",
   "execution_count": 79,
   "metadata": {
    "collapsed": false
   },
   "outputs": [
    {
     "data": {
      "text/plain": [
       "A   -0.048798\n",
       "B    0.336207\n",
       "C   -0.743268\n",
       "D    0.903501\n",
       "F    3.500000\n",
       "E    5.000000\n",
       "dtype: float64"
      ]
     },
     "execution_count": 79,
     "metadata": {},
     "output_type": "execute_result"
    }
   ],
   "source": [
    "df.mean()"
   ]
  },
  {
   "cell_type": "code",
   "execution_count": 80,
   "metadata": {
    "collapsed": false
   },
   "outputs": [
    {
     "data": {
      "text/plain": [
       "A   -0.089488\n",
       "B    0.342239\n",
       "C   -0.609370\n",
       "D    0.863955\n",
       "F    3.500000\n",
       "E    5.000000\n",
       "dtype: float64"
      ]
     },
     "execution_count": 80,
     "metadata": {},
     "output_type": "execute_result"
    }
   ],
   "source": [
    "df.median()"
   ]
  },
  {
   "cell_type": "code",
   "execution_count": 81,
   "metadata": {
    "collapsed": false
   },
   "outputs": [
    {
     "data": {
      "text/html": [
       "<div>\n",
       "<table border=\"1\" class=\"dataframe\">\n",
       "  <thead>\n",
       "    <tr style=\"text-align: right;\">\n",
       "      <th></th>\n",
       "      <th>A</th>\n",
       "      <th>B</th>\n",
       "      <th>C</th>\n",
       "      <th>D</th>\n",
       "      <th>F</th>\n",
       "      <th>E</th>\n",
       "    </tr>\n",
       "  </thead>\n",
       "  <tbody>\n",
       "    <tr>\n",
       "      <th>2013-01-01</th>\n",
       "      <td>1.000000</td>\n",
       "      <td>-0.258668</td>\n",
       "      <td>-0.431750</td>\n",
       "      <td>2.609813</td>\n",
       "      <td>1</td>\n",
       "      <td>5.0</td>\n",
       "    </tr>\n",
       "    <tr>\n",
       "      <th>2013-01-02</th>\n",
       "      <td>1.382646</td>\n",
       "      <td>0.065690</td>\n",
       "      <td>-1.218740</td>\n",
       "      <td>3.432910</td>\n",
       "      <td>3</td>\n",
       "      <td>10.0</td>\n",
       "    </tr>\n",
       "    <tr>\n",
       "      <th>2013-01-03</th>\n",
       "      <td>2.173132</td>\n",
       "      <td>0.425811</td>\n",
       "      <td>-3.668909</td>\n",
       "      <td>3.693622</td>\n",
       "      <td>6</td>\n",
       "      <td>15.0</td>\n",
       "    </tr>\n",
       "    <tr>\n",
       "      <th>2013-01-04</th>\n",
       "      <td>1.611510</td>\n",
       "      <td>-0.717757</td>\n",
       "      <td>-5.522195</td>\n",
       "      <td>5.065991</td>\n",
       "      <td>10</td>\n",
       "      <td>20.0</td>\n",
       "    </tr>\n",
       "    <tr>\n",
       "      <th>2013-01-05</th>\n",
       "      <td>0.605364</td>\n",
       "      <td>-0.313629</td>\n",
       "      <td>-4.381484</td>\n",
       "      <td>5.970804</td>\n",
       "      <td>15</td>\n",
       "      <td>25.0</td>\n",
       "    </tr>\n",
       "    <tr>\n",
       "      <th>2013-01-06</th>\n",
       "      <td>-0.292791</td>\n",
       "      <td>2.017244</td>\n",
       "      <td>-4.459607</td>\n",
       "      <td>5.421006</td>\n",
       "      <td>21</td>\n",
       "      <td>30.0</td>\n",
       "    </tr>\n",
       "  </tbody>\n",
       "</table>\n",
       "</div>"
      ],
      "text/plain": [
       "                   A         B         C         D   F     E\n",
       "2013-01-01  1.000000 -0.258668 -0.431750  2.609813   1   5.0\n",
       "2013-01-02  1.382646  0.065690 -1.218740  3.432910   3  10.0\n",
       "2013-01-03  2.173132  0.425811 -3.668909  3.693622   6  15.0\n",
       "2013-01-04  1.611510 -0.717757 -5.522195  5.065991  10  20.0\n",
       "2013-01-05  0.605364 -0.313629 -4.381484  5.970804  15  25.0\n",
       "2013-01-06 -0.292791  2.017244 -4.459607  5.421006  21  30.0"
      ]
     },
     "execution_count": 81,
     "metadata": {},
     "output_type": "execute_result"
    }
   ],
   "source": [
    "df.apply(np.cumsum)"
   ]
  },
  {
   "cell_type": "markdown",
   "metadata": {},
   "source": [
    "STRING FUNCTIONS"
   ]
  },
  {
   "cell_type": "code",
   "execution_count": 84,
   "metadata": {
    "collapsed": false
   },
   "outputs": [
    {
     "data": {
      "text/plain": [
       "0       A\n",
       "1       B\n",
       "2       C\n",
       "3     AAb\n",
       "4    Baca\n",
       "5     NaN\n",
       "6    CABA\n",
       "7     dog\n",
       "8     cat\n",
       "dtype: object"
      ]
     },
     "execution_count": 84,
     "metadata": {},
     "output_type": "execute_result"
    }
   ],
   "source": [
    "s = pd.Series([\"A\",\"B\",\"C\",\"AAb\",\"Baca\",np.nan,\"CABA\",'dog','cat'])\n",
    "s"
   ]
  },
  {
   "cell_type": "code",
   "execution_count": 85,
   "metadata": {
    "collapsed": false
   },
   "outputs": [
    {
     "data": {
      "text/plain": [
       "0       a\n",
       "1       b\n",
       "2       c\n",
       "3     aab\n",
       "4    baca\n",
       "5     NaN\n",
       "6    caba\n",
       "7     dog\n",
       "8     cat\n",
       "dtype: object"
      ]
     },
     "execution_count": 85,
     "metadata": {},
     "output_type": "execute_result"
    }
   ],
   "source": [
    "s.str.lower()"
   ]
  },
  {
   "cell_type": "code",
   "execution_count": 87,
   "metadata": {
    "collapsed": false
   },
   "outputs": [
    {
     "data": {
      "text/html": [
       "<div>\n",
       "<table border=\"1\" class=\"dataframe\">\n",
       "  <thead>\n",
       "    <tr style=\"text-align: right;\">\n",
       "      <th></th>\n",
       "      <th>0</th>\n",
       "      <th>1</th>\n",
       "      <th>2</th>\n",
       "      <th>3</th>\n",
       "    </tr>\n",
       "  </thead>\n",
       "  <tbody>\n",
       "    <tr>\n",
       "      <th>0</th>\n",
       "      <td>-0.649192</td>\n",
       "      <td>-0.167441</td>\n",
       "      <td>0.552103</td>\n",
       "      <td>-0.505054</td>\n",
       "    </tr>\n",
       "    <tr>\n",
       "      <th>1</th>\n",
       "      <td>-0.350607</td>\n",
       "      <td>-0.504587</td>\n",
       "      <td>1.560611</td>\n",
       "      <td>-0.235006</td>\n",
       "    </tr>\n",
       "    <tr>\n",
       "      <th>2</th>\n",
       "      <td>0.820956</td>\n",
       "      <td>1.121541</td>\n",
       "      <td>-0.610642</td>\n",
       "      <td>-0.924447</td>\n",
       "    </tr>\n",
       "    <tr>\n",
       "      <th>3</th>\n",
       "      <td>1.014242</td>\n",
       "      <td>1.062959</td>\n",
       "      <td>-0.932707</td>\n",
       "      <td>0.829738</td>\n",
       "    </tr>\n",
       "    <tr>\n",
       "      <th>4</th>\n",
       "      <td>0.444735</td>\n",
       "      <td>0.800064</td>\n",
       "      <td>0.740088</td>\n",
       "      <td>-0.261800</td>\n",
       "    </tr>\n",
       "    <tr>\n",
       "      <th>5</th>\n",
       "      <td>-1.053726</td>\n",
       "      <td>0.249539</td>\n",
       "      <td>1.642187</td>\n",
       "      <td>-0.430605</td>\n",
       "    </tr>\n",
       "    <tr>\n",
       "      <th>6</th>\n",
       "      <td>-1.242272</td>\n",
       "      <td>-0.253710</td>\n",
       "      <td>0.790072</td>\n",
       "      <td>1.490172</td>\n",
       "    </tr>\n",
       "    <tr>\n",
       "      <th>7</th>\n",
       "      <td>1.035302</td>\n",
       "      <td>0.170695</td>\n",
       "      <td>-1.246292</td>\n",
       "      <td>-0.206686</td>\n",
       "    </tr>\n",
       "    <tr>\n",
       "      <th>8</th>\n",
       "      <td>0.562561</td>\n",
       "      <td>0.623200</td>\n",
       "      <td>0.002525</td>\n",
       "      <td>-0.579620</td>\n",
       "    </tr>\n",
       "    <tr>\n",
       "      <th>9</th>\n",
       "      <td>-1.203675</td>\n",
       "      <td>1.272588</td>\n",
       "      <td>-0.222526</td>\n",
       "      <td>0.022249</td>\n",
       "    </tr>\n",
       "  </tbody>\n",
       "</table>\n",
       "</div>"
      ],
      "text/plain": [
       "          0         1         2         3\n",
       "0 -0.649192 -0.167441  0.552103 -0.505054\n",
       "1 -0.350607 -0.504587  1.560611 -0.235006\n",
       "2  0.820956  1.121541 -0.610642 -0.924447\n",
       "3  1.014242  1.062959 -0.932707  0.829738\n",
       "4  0.444735  0.800064  0.740088 -0.261800\n",
       "5 -1.053726  0.249539  1.642187 -0.430605\n",
       "6 -1.242272 -0.253710  0.790072  1.490172\n",
       "7  1.035302  0.170695 -1.246292 -0.206686\n",
       "8  0.562561  0.623200  0.002525 -0.579620\n",
       "9 -1.203675  1.272588 -0.222526  0.022249"
      ]
     },
     "execution_count": 87,
     "metadata": {},
     "output_type": "execute_result"
    }
   ],
   "source": [
    "df = pd.DataFrame(np.random.randn(10,4))\n",
    "df"
   ]
  },
  {
   "cell_type": "code",
   "execution_count": 88,
   "metadata": {
    "collapsed": true
   },
   "outputs": [],
   "source": [
    "pieces = [df[:3],df[3:7],df[7:]]"
   ]
  },
  {
   "cell_type": "code",
   "execution_count": 89,
   "metadata": {
    "collapsed": false
   },
   "outputs": [
    {
     "data": {
      "text/plain": [
       "[          0         1         2         3\n",
       " 0 -0.649192 -0.167441  0.552103 -0.505054\n",
       " 1 -0.350607 -0.504587  1.560611 -0.235006\n",
       " 2  0.820956  1.121541 -0.610642 -0.924447,\n",
       "           0         1         2         3\n",
       " 3  1.014242  1.062959 -0.932707  0.829738\n",
       " 4  0.444735  0.800064  0.740088 -0.261800\n",
       " 5 -1.053726  0.249539  1.642187 -0.430605\n",
       " 6 -1.242272 -0.253710  0.790072  1.490172,\n",
       "           0         1         2         3\n",
       " 7  1.035302  0.170695 -1.246292 -0.206686\n",
       " 8  0.562561  0.623200  0.002525 -0.579620\n",
       " 9 -1.203675  1.272588 -0.222526  0.022249]"
      ]
     },
     "execution_count": 89,
     "metadata": {},
     "output_type": "execute_result"
    }
   ],
   "source": [
    "pieces"
   ]
  },
  {
   "cell_type": "code",
   "execution_count": 90,
   "metadata": {
    "collapsed": false
   },
   "outputs": [
    {
     "data": {
      "text/html": [
       "<div>\n",
       "<table border=\"1\" class=\"dataframe\">\n",
       "  <thead>\n",
       "    <tr style=\"text-align: right;\">\n",
       "      <th></th>\n",
       "      <th>0</th>\n",
       "      <th>1</th>\n",
       "      <th>2</th>\n",
       "      <th>3</th>\n",
       "    </tr>\n",
       "  </thead>\n",
       "  <tbody>\n",
       "    <tr>\n",
       "      <th>0</th>\n",
       "      <td>-0.649192</td>\n",
       "      <td>-0.167441</td>\n",
       "      <td>0.552103</td>\n",
       "      <td>-0.505054</td>\n",
       "    </tr>\n",
       "    <tr>\n",
       "      <th>1</th>\n",
       "      <td>-0.350607</td>\n",
       "      <td>-0.504587</td>\n",
       "      <td>1.560611</td>\n",
       "      <td>-0.235006</td>\n",
       "    </tr>\n",
       "    <tr>\n",
       "      <th>2</th>\n",
       "      <td>0.820956</td>\n",
       "      <td>1.121541</td>\n",
       "      <td>-0.610642</td>\n",
       "      <td>-0.924447</td>\n",
       "    </tr>\n",
       "    <tr>\n",
       "      <th>3</th>\n",
       "      <td>1.014242</td>\n",
       "      <td>1.062959</td>\n",
       "      <td>-0.932707</td>\n",
       "      <td>0.829738</td>\n",
       "    </tr>\n",
       "    <tr>\n",
       "      <th>4</th>\n",
       "      <td>0.444735</td>\n",
       "      <td>0.800064</td>\n",
       "      <td>0.740088</td>\n",
       "      <td>-0.261800</td>\n",
       "    </tr>\n",
       "    <tr>\n",
       "      <th>5</th>\n",
       "      <td>-1.053726</td>\n",
       "      <td>0.249539</td>\n",
       "      <td>1.642187</td>\n",
       "      <td>-0.430605</td>\n",
       "    </tr>\n",
       "    <tr>\n",
       "      <th>6</th>\n",
       "      <td>-1.242272</td>\n",
       "      <td>-0.253710</td>\n",
       "      <td>0.790072</td>\n",
       "      <td>1.490172</td>\n",
       "    </tr>\n",
       "    <tr>\n",
       "      <th>7</th>\n",
       "      <td>1.035302</td>\n",
       "      <td>0.170695</td>\n",
       "      <td>-1.246292</td>\n",
       "      <td>-0.206686</td>\n",
       "    </tr>\n",
       "    <tr>\n",
       "      <th>8</th>\n",
       "      <td>0.562561</td>\n",
       "      <td>0.623200</td>\n",
       "      <td>0.002525</td>\n",
       "      <td>-0.579620</td>\n",
       "    </tr>\n",
       "    <tr>\n",
       "      <th>9</th>\n",
       "      <td>-1.203675</td>\n",
       "      <td>1.272588</td>\n",
       "      <td>-0.222526</td>\n",
       "      <td>0.022249</td>\n",
       "    </tr>\n",
       "  </tbody>\n",
       "</table>\n",
       "</div>"
      ],
      "text/plain": [
       "          0         1         2         3\n",
       "0 -0.649192 -0.167441  0.552103 -0.505054\n",
       "1 -0.350607 -0.504587  1.560611 -0.235006\n",
       "2  0.820956  1.121541 -0.610642 -0.924447\n",
       "3  1.014242  1.062959 -0.932707  0.829738\n",
       "4  0.444735  0.800064  0.740088 -0.261800\n",
       "5 -1.053726  0.249539  1.642187 -0.430605\n",
       "6 -1.242272 -0.253710  0.790072  1.490172\n",
       "7  1.035302  0.170695 -1.246292 -0.206686\n",
       "8  0.562561  0.623200  0.002525 -0.579620\n",
       "9 -1.203675  1.272588 -0.222526  0.022249"
      ]
     },
     "execution_count": 90,
     "metadata": {},
     "output_type": "execute_result"
    }
   ],
   "source": [
    "pd.concat(pieces)"
   ]
  },
  {
   "cell_type": "markdown",
   "metadata": {},
   "source": [
    "## Creating a stacked series with multiple levels and converting to DataFrame"
   ]
  },
  {
   "cell_type": "code",
   "execution_count": 3,
   "metadata": {
    "collapsed": false
   },
   "outputs": [],
   "source": [
    "data2 = pd.Series(np.random.random_integers(10), index = [['a','a','a','b','b','b','c','c','d','d'],[1,2,3,1,2,3,1,2,2,3]])"
   ]
  },
  {
   "cell_type": "code",
   "execution_count": 4,
   "metadata": {
    "collapsed": false
   },
   "outputs": [
    {
     "data": {
      "text/plain": [
       "a  1    8\n",
       "   2    8\n",
       "   3    8\n",
       "b  1    8\n",
       "   2    8\n",
       "   3    8\n",
       "c  1    8\n",
       "   2    8\n",
       "d  2    8\n",
       "   3    8\n",
       "dtype: int64"
      ]
     },
     "execution_count": 4,
     "metadata": {},
     "output_type": "execute_result"
    }
   ],
   "source": [
    "data2"
   ]
  },
  {
   "cell_type": "code",
   "execution_count": 5,
   "metadata": {
    "collapsed": false
   },
   "outputs": [
    {
     "data": {
      "text/plain": [
       "MultiIndex(levels=[[u'a', u'b', u'c', u'd'], [1, 2, 3]],\n",
       "           labels=[[0, 0, 0, 1, 1, 1, 2, 2, 3, 3], [0, 1, 2, 0, 1, 2, 0, 1, 1, 2]])"
      ]
     },
     "execution_count": 5,
     "metadata": {},
     "output_type": "execute_result"
    }
   ],
   "source": [
    "data2.index"
   ]
  },
  {
   "cell_type": "code",
   "execution_count": 6,
   "metadata": {
    "collapsed": false
   },
   "outputs": [
    {
     "data": {
      "text/plain": [
       "1    8\n",
       "2    8\n",
       "3    8\n",
       "dtype: int64"
      ]
     },
     "execution_count": 6,
     "metadata": {},
     "output_type": "execute_result"
    }
   ],
   "source": [
    "data2['b']"
   ]
  },
  {
   "cell_type": "code",
   "execution_count": 7,
   "metadata": {
    "collapsed": false
   },
   "outputs": [
    {
     "data": {
      "text/plain": [
       "a    8\n",
       "b    8\n",
       "c    8\n",
       "dtype: int64"
      ]
     },
     "execution_count": 7,
     "metadata": {},
     "output_type": "execute_result"
    }
   ],
   "source": [
    "data2[:,1]"
   ]
  },
  {
   "cell_type": "code",
   "execution_count": 10,
   "metadata": {
    "collapsed": false
   },
   "outputs": [],
   "source": [
    "data3 = data2.unstack()"
   ]
  },
  {
   "cell_type": "code",
   "execution_count": 18,
   "metadata": {
    "collapsed": false
   },
   "outputs": [
    {
     "data": {
      "text/plain": [
       "<bound method DataFrame.info of      1    2    3\n",
       "a  8.0  8.0  8.0\n",
       "b  8.0  8.0  8.0\n",
       "c  8.0  8.0  NaN\n",
       "d  NaN  8.0  8.0>"
      ]
     },
     "execution_count": 18,
     "metadata": {},
     "output_type": "execute_result"
    }
   ],
   "source": [
    "data3.info"
   ]
  }
 ],
 "metadata": {
  "kernelspec": {
   "display_name": "Python 2",
   "language": "python",
   "name": "python2"
  },
  "language_info": {
   "codemirror_mode": {
    "name": "ipython",
    "version": 2
   },
   "file_extension": ".py",
   "mimetype": "text/x-python",
   "name": "python",
   "nbconvert_exporter": "python",
   "pygments_lexer": "ipython2",
   "version": "2.7.11"
  }
 },
 "nbformat": 4,
 "nbformat_minor": 0
}
